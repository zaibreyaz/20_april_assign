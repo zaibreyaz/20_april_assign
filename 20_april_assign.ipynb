{
 "cells": [
  {
   "cell_type": "code",
   "execution_count": null,
   "id": "3f3e91b9-4d7a-4f46-9587-949a85b6f9c7",
   "metadata": {},
   "outputs": [],
   "source": [
    "\"\"\"Q1. What is the KNN algorithm?\n",
    "\n",
    "    Ans: The K-Nearest Neighbors (KNN) algorithm is a non-parametric classification and regression method. It assigns a new data point to the majority class or predicts its \n",
    "         target value based on the K nearest neighbors in the training set. The class or value is determined by a majority vote or weighted average, respectively.\n",
    "\"\"\""
   ]
  },
  {
   "cell_type": "code",
   "execution_count": null,
   "id": "42e3b9af-f5fb-4fdc-abb7-307e3f097c93",
   "metadata": {},
   "outputs": [],
   "source": [
    "\"\"\"Q2. How do you choose the value of K in KNN?\n",
    "\n",
    "    Ans: The choice of the value of K in KNN depends on the dataset and problem at hand. A smaller K can capture local patterns but may be sensitive to noise, while a larger \n",
    "         K smooths decision boundaries but may overlook local patterns. Techniques like cross-validation or grid search can help determine an optimal K value.\n",
    "\"\"\""
   ]
  },
  {
   "cell_type": "code",
   "execution_count": null,
   "id": "0e94beef-a226-4405-83e9-c87e7a93ab3f",
   "metadata": {},
   "outputs": [],
   "source": [
    "\"\"\"Q3. What is the difference between KNN classifier and KNN regressor?\n",
    "\n",
    "    Ans: The KNN classifier predicts the class label of a data point based on the majority vote of its neighbors, while the KNN regressor predicts the continuous target \n",
    "         value based on the average or weighted average of its neighbors.\n",
    "\"\"\""
   ]
  },
  {
   "cell_type": "code",
   "execution_count": null,
   "id": "e1a5c190-eeb1-476b-97b5-aabd62d06c4e",
   "metadata": {},
   "outputs": [],
   "source": [
    "\"\"\"Q4. How do you measure the performance of KNN?\n",
    "\n",
    "    Ans: The performance of KNN is typically measured using evaluation metrics such as accuracy, precision, recall, F1 score for classification tasks, and metrics like \n",
    "         mean squared error or R-squared for regression tasks.\n",
    "\"\"\""
   ]
  },
  {
   "cell_type": "code",
   "execution_count": null,
   "id": "969b0cff-6280-42ee-98ad-a7a2764debf1",
   "metadata": {},
   "outputs": [],
   "source": [
    "\"\"\"Q5. What is the curse of dimensionality in KNN?\n",
    "\n",
    "    Ans: The curse of dimensionality refers to the degradation of KNN's performance as the number of dimensions/features increases, leading to increased computational \n",
    "         complexity and sparsity of data in high-dimensional spaces.\n",
    "\"\"\""
   ]
  },
  {
   "cell_type": "code",
   "execution_count": null,
   "id": "519b451f-d66f-4e7b-9bba-ce8b00661a95",
   "metadata": {},
   "outputs": [],
   "source": [
    "\"\"\"Q6. How do you handle missing values in KNN?\n",
    "\n",
    "    Ans: To handle missing values in KNN, common approaches include imputing missing values with mean, median, or mode, or using algorithms specifically designed for \n",
    "         imputing missing values, such as k-nearest neighbors imputation.\n",
    "\"\"\""
   ]
  },
  {
   "cell_type": "code",
   "execution_count": null,
   "id": "6b43699c-7ec8-4d2c-bd54-3f6782ca1ad8",
   "metadata": {},
   "outputs": [],
   "source": [
    "\"\"\"Q7. Compare and contrast the performance of the KNN classifier and regressor. Which one is better for which type of problem?\n",
    "\n",
    "    Ans: The KNN classifier is suitable for categorical/classification problems, while the KNN regressor is suitable for numerical/regression problems. \n",
    "         The choice depends on the nature of the problem and the type of output variable being predicted.\n",
    "\"\"\""
   ]
  },
  {
   "cell_type": "code",
   "execution_count": null,
   "id": "fdcdf8fe-4e79-4c17-989a-786fd45b6ae5",
   "metadata": {},
   "outputs": [],
   "source": [
    "\"\"\"Q8. What are the strengths and weaknesses of the KNN algorithm for classification and regression tasks, and how can these be addressed?\n",
    "\n",
    "    Ans: The strengths of the KNN algorithm include simplicity, non-linearity, and adaptability to any feature space. However, its weaknesses include sensitivity to irrelevant \n",
    "         features, computation time for large datasets, and vulnerability to imbalanced data. These can be addressed through feature selection, dimensionality reduction, and \n",
    "         techniques like resampling, weighting, or using distance metrics that mitigate imbalanced data.\n",
    "\"\"\""
   ]
  },
  {
   "cell_type": "code",
   "execution_count": null,
   "id": "1cf84ba8-af12-4cb6-8de0-374da204ed5d",
   "metadata": {},
   "outputs": [],
   "source": [
    "\"\"\"Q9. What is the difference between Euclidean distance and Manhattan distance in KNN?\n",
    "\n",
    "    Ans: The difference between Euclidean distance and Manhattan distance in KNN is how they measure distance. Euclidean distance calculates the straight-line distance, \n",
    "         while Manhattan distance calculates the sum of absolute differences along each dimension.\n",
    "\"\"\""
   ]
  },
  {
   "cell_type": "code",
   "execution_count": null,
   "id": "cb19a679-d120-407b-8d81-864b880d67b2",
   "metadata": {},
   "outputs": [],
   "source": [
    "\"\"\"Q10. What is the role of feature scaling in KNN?\n",
    "\n",
    "    Ans: Feature scaling in KNN is important to ensure that all features contribute equally to the distance calculation. It brings the features to a common scale, \n",
    "         preventing features with larger magnitudes from dominating the distance metric.\n",
    "\"\"\""
   ]
  }
 ],
 "metadata": {
  "kernelspec": {
   "display_name": "Python 3 (ipykernel)",
   "language": "python",
   "name": "python3"
  },
  "language_info": {
   "codemirror_mode": {
    "name": "ipython",
    "version": 3
   },
   "file_extension": ".py",
   "mimetype": "text/x-python",
   "name": "python",
   "nbconvert_exporter": "python",
   "pygments_lexer": "ipython3",
   "version": "3.10.8"
  }
 },
 "nbformat": 4,
 "nbformat_minor": 5
}
